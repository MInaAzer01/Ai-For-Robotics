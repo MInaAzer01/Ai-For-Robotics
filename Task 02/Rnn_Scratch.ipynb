{
 "cells": [
  {
   "cell_type": "code",
   "execution_count": 1,
   "id": "e6985672-6492-4d62-a4a1-a20f957f94b5",
   "metadata": {
    "tags": []
   },
   "outputs": [
    {
     "ename": "ModuleNotFoundError",
     "evalue": "No module named 'dataPrep'",
     "output_type": "error",
     "traceback": [
      "\u001b[1;31m---------------------------------------------------------------------------\u001b[0m",
      "\u001b[1;31mModuleNotFoundError\u001b[0m                       Traceback (most recent call last)",
      "Cell \u001b[1;32mIn[1], line 9\u001b[0m\n\u001b[0;32m      7\u001b[0m \u001b[38;5;28;01mimport\u001b[39;00m \u001b[38;5;21;01mmatplotlib\u001b[39;00m\u001b[38;5;21;01m.\u001b[39;00m\u001b[38;5;21;01mpyplot\u001b[39;00m \u001b[38;5;28;01mas\u001b[39;00m \u001b[38;5;21;01mplt\u001b[39;00m\n\u001b[0;32m      8\u001b[0m \u001b[38;5;28;01mimport\u001b[39;00m \u001b[38;5;21;01mseaborn\u001b[39;00m \u001b[38;5;28;01mas\u001b[39;00m \u001b[38;5;21;01msns\u001b[39;00m\n\u001b[1;32m----> 9\u001b[0m \u001b[38;5;28;01mimport\u001b[39;00m \u001b[38;5;21;01mdataPrep\u001b[39;00m \u001b[38;5;28;01mas\u001b[39;00m \u001b[38;5;21;01mdp\u001b[39;00m\n",
      "\u001b[1;31mModuleNotFoundError\u001b[0m: No module named 'dataPrep'"
     ]
    }
   ],
   "source": [
    "import numpy as np\n",
    "import pandas as pd\n",
    "import seaborn as sns\n",
    "import dataPrep as dp\n",
    "from sklearn.preprocessing import LabelEncoder\n",
    "from sklearn.preprocessing import MinMaxScaler\n",
    "from sklearn.model_selection import train_test_split\n",
    "from scipy.stats import mode\n",
    "from sklearn.preprocessing import LabelEncoder\n",
    "from sklearn.preprocessing import MinMaxScaler\n",
    "import matplotlib.pyplot as plt"
   ]
  },
  {
   "cell_type": "code",
   "execution_count": null,
   "id": "31051d0f-dee0-4595-8614-c85d45a33162",
   "metadata": {},
   "outputs": [],
   "source": [
    "class Radius_Nearest_Neighbors_Classifier() : \n",
    "     \n",
    "    def __init__( self, radius ) :\n",
    "        self.radius = radius\n",
    "         \n",
    "    def fit(self,X_train,Y_train) :\n",
    "        self.X_train = X_train\n",
    "        self.Y_train = Y_train\n",
    "        self.samples, self.features = X_train.shape\n",
    "\n",
    "    def find_neighbors(self,x) :\n",
    "        inside = []\n",
    "        for i in range( self.samples ) :\n",
    "            distance = self.euclidean_distance( x, self.X_train[i] )\n",
    "            if distance <= self.radius :\n",
    "                inside.append( self.Y_train.iloc[i] )\n",
    "\n",
    "        inside_array = np.array( inside )\n",
    "                 \n",
    "        return inside_array\n",
    "\n",
    "    def euclidean_distance( self, x, x_train ) :\n",
    "        return np.sqrt( np.sum( np.square( x - x_train ) ) )\n",
    "\n",
    "    def predict( self, X_test ) :\n",
    "        self.X_test = X_test\n",
    "        self.samples_test, self.features_test = X_test.shape\n",
    "        Y_predict = np.zeros(self.samples_test)\n",
    "        for i in range(self.samples_test) :\n",
    "            x = self.X_test[i]\n",
    "            neighbors = self.find_neighbors( x )\n",
    "            Y_predict[i] = mode( neighbors )[0][0]\n",
    "             \n",
    "        return np.array(Y_predict)"
   ]
  }
 ],
 "metadata": {
  "kernelspec": {
   "display_name": "Python 3 (ipykernel)",
   "language": "python",
   "name": "python3"
  },
  "language_info": {
   "codemirror_mode": {
    "name": "ipython",
    "version": 3
   },
   "file_extension": ".py",
   "mimetype": "text/x-python",
   "name": "python",
   "nbconvert_exporter": "python",
   "pygments_lexer": "ipython3",
   "version": "3.11.5"
  }
 },
 "nbformat": 4,
 "nbformat_minor": 5
}
