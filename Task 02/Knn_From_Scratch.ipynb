{
 "cells": [
  {
   "cell_type": "code",
   "execution_count": 2,
   "id": "3ca9fc93-85b3-401d-ba23-26fd73bb5445",
   "metadata": {
    "tags": []
   },
   "outputs": [
    {
     "ename": "ModuleNotFoundError",
     "evalue": "No module named 'dataPrep'",
     "output_type": "error",
     "traceback": [
      "\u001b[1;31m---------------------------------------------------------------------------\u001b[0m",
      "\u001b[1;31mModuleNotFoundError\u001b[0m                       Traceback (most recent call last)",
      "\u001b[1;32mc:\\Users\\Abdelrahman Sameh\\MY_Anaconda_Files\\Ai_For_Robotics\\Task 2\\Knn_From_Scratch.ipynb Cell 1\u001b[0m line \u001b[0;36m5\n\u001b[0;32m      <a href='vscode-notebook-cell:/c%3A/Users/Abdelrahman%20Sameh/MY_Anaconda_Files/Ai_For_Robotics/Task%202/Knn_From_Scratch.ipynb#W1sZmlsZQ%3D%3D?line=2'>3</a>\u001b[0m \u001b[39mimport\u001b[39;00m \u001b[39mmatplotlib\u001b[39;00m\u001b[39m.\u001b[39;00m\u001b[39mpyplot\u001b[39;00m \u001b[39mas\u001b[39;00m \u001b[39mplt\u001b[39;00m\n\u001b[0;32m      <a href='vscode-notebook-cell:/c%3A/Users/Abdelrahman%20Sameh/MY_Anaconda_Files/Ai_For_Robotics/Task%202/Knn_From_Scratch.ipynb#W1sZmlsZQ%3D%3D?line=3'>4</a>\u001b[0m \u001b[39mimport\u001b[39;00m \u001b[39mseaborn\u001b[39;00m \u001b[39mas\u001b[39;00m \u001b[39msns\u001b[39;00m\n\u001b[1;32m----> <a href='vscode-notebook-cell:/c%3A/Users/Abdelrahman%20Sameh/MY_Anaconda_Files/Ai_For_Robotics/Task%202/Knn_From_Scratch.ipynb#W1sZmlsZQ%3D%3D?line=4'>5</a>\u001b[0m \u001b[39mimport\u001b[39;00m \u001b[39mdataPrep\u001b[39;00m \u001b[39mas\u001b[39;00m \u001b[39mdp\u001b[39;00m\n\u001b[0;32m      <a href='vscode-notebook-cell:/c%3A/Users/Abdelrahman%20Sameh/MY_Anaconda_Files/Ai_For_Robotics/Task%202/Knn_From_Scratch.ipynb#W1sZmlsZQ%3D%3D?line=5'>6</a>\u001b[0m \u001b[39mfrom\u001b[39;00m \u001b[39mscipy\u001b[39;00m\u001b[39m.\u001b[39;00m\u001b[39mstats\u001b[39;00m \u001b[39mimport\u001b[39;00m mode\n\u001b[0;32m      <a href='vscode-notebook-cell:/c%3A/Users/Abdelrahman%20Sameh/MY_Anaconda_Files/Ai_For_Robotics/Task%202/Knn_From_Scratch.ipynb#W1sZmlsZQ%3D%3D?line=6'>7</a>\u001b[0m \u001b[39mfrom\u001b[39;00m \u001b[39msklearn\u001b[39;00m\u001b[39m.\u001b[39;00m\u001b[39mmodel_selection\u001b[39;00m \u001b[39mimport\u001b[39;00m train_test_split\n",
      "\u001b[1;31mModuleNotFoundError\u001b[0m: No module named 'dataPrep'"
     ]
    }
   ],
   "source": [
    "import numpy as np\n",
    "import pandas as pd\n",
    "import matplotlib.pyplot as plt\n",
    "import seaborn as sns\n",
    "import dataPrep as dp\n",
    "from scipy.stats import mode\n",
    "from sklearn.model_selection import train_test_split\n",
    "from sklearn.preprocessing import MinMaxScaler\n",
    "from sklearn.preprocessing import LabelEncoder\n",
    "from sklearn.metrics import mean_squared_error,r2_score,accuracy_score"
   ]
  },
  {
   "cell_type": "code",
   "execution_count": null,
   "id": "762ad498-f593-45af-ad4c-4988d9d57433",
   "metadata": {
    "tags": []
   },
   "outputs": [],
   "source": [
    "df = pd.read_csv('Prostate_Cancer.csv')\n",
    "df.head()"
   ]
  },
  {
   "cell_type": "code",
   "execution_count": null,
   "id": "e3166e5e-704c-461a-803b-46dc667e66e8",
   "metadata": {
    "tags": []
   },
   "outputs": [],
   "source": [
    "encoder=LabelEncoder()\n",
    "df['diagnosis_result'] = encoder.fit_transform(df['diagnosis_result'])"
   ]
  },
  {
   "cell_type": "code",
   "execution_count": null,
   "id": "3800d0f1-5d84-4ad6-9823-6985cef73553",
   "metadata": {
    "tags": []
   },
   "outputs": [],
   "source": [
    "dp.outliers_imputation(df,'perimeter','mean')\n",
    "dp.outliers_imputation(df,'smoothness','mean')\n",
    "dp.outliers_imputation(df,'compactness','mean')\n",
    "dp.outliers_imputation(df,'symmetry','mean')\n",
    "dp.outliers_imputation(df,'fractal_dimension','mean')"
   ]
  },
  {
   "cell_type": "code",
   "execution_count": null,
   "id": "d8c91688-da95-461c-99ab-28b11977dca4",
   "metadata": {
    "tags": []
   },
   "outputs": [],
   "source": [
    "Y_data = df['diagnosis_result'].values\n",
    "X_data = df.drop(['diagnosis_result'],axis=1).values"
   ]
  },
  {
   "cell_type": "code",
   "execution_count": null,
   "id": "fd08a8fc-557d-4b75-a7b7-2ec6cea2290c",
   "metadata": {
    "tags": []
   },
   "outputs": [],
   "source": [
    "x_train,x_test,y_train,y_test = train_test_split(X_data,Y_data,test_size=0.2,random_state=0)\n"
   ]
  },
  {
   "cell_type": "code",
   "execution_count": null,
   "id": "3c5ec6d1-ded4-4841-b2bd-e8b30b10c2f4",
   "metadata": {
    "tags": []
   },
   "outputs": [],
   "source": [
    "pd.DataFrame(x_test)\n"
   ]
  },
  {
   "cell_type": "code",
   "execution_count": null,
   "id": "0bd1c8c6-95b9-47e8-8f62-8cc6a601549b",
   "metadata": {
    "tags": []
   },
   "outputs": [],
   "source": [
    "from sklearn.preprocessing import StandardScaler\n",
    "scaler=StandardScaler()\n",
    "X_data = scaler.fit_transform(X_data)"
   ]
  },
  {
   "cell_type": "code",
   "execution_count": null,
   "id": "8927b0a2-1456-47d3-b689-3ee252bd11b3",
   "metadata": {
    "tags": []
   },
   "outputs": [],
   "source": [
    "class KNNClassifier:\n",
    "    def __init__(self, k=3):\n",
    "        self.k = k\n",
    "\n",
    "    def fit(self, X_train, y_train):\n",
    "        self.X_train = X_train\n",
    "        self.y_train = y_train\n",
    "\n",
    "    def predict(self, X_test):\n",
    "        y_pred = [self.getEculideanDistance(x) for x in X_test]\n",
    "        return np.array(y_pred)\n",
    "\n",
    "    def getEculideanDistance(self, x):\n",
    "        # get the distances between x and x_train \n",
    "        distances = [np.linalg.norm(x - x_train) for x_train in self.X_train]\n",
    "        \n",
    "        # Get the indices of k-nearest points of the training data \n",
    "        k_indices = np.argsort(distances)[:self.k]\n",
    "        \n",
    "        # Get the labels of the k-nearest training data points\n",
    "        k_nearest_labels = [self.y_train[i] for i in k_indices]\n",
    "        \n",
    "        # Return the most common class label\n",
    "        commonClasses = np.bincount(k_nearest_labels).argmax()\n",
    "        return commonClasses\n",
    "    def CM(self,y_test,y_pred):\n",
    "        # get the confusion matrix and get the true negative,true positive ,false positive and false negative\n",
    "\n",
    "        cm=[]\n",
    "        TP=[]\n",
    "        TN=[]\n",
    "        FP=[]\n",
    "        FN=[]\n",
    "\n",
    "        for i in range(len(y_test)):\n",
    "            if(y_test[i]==1 and y_pred[i]==1):\n",
    "                TN.append(1)\n",
    "            if(y_test[i]==0 and y_pred[i]==1):\n",
    "                FP.append(1)\n",
    "            if(y_test[i]==1 and y_pred[i]==0):\n",
    "                FN.append(1)\n",
    "            if(y_test[i]==0 and y_pred[i]==0):\n",
    "                TP.append(1)\n",
    "\n",
    "        sum_TP=sum(TP)\n",
    "        sum_TN=sum(TN)\n",
    "        sum_FP=sum(FP)\n",
    "        sum_FN=sum(FN)\n",
    "\n",
    "        cm.append(sum_TP)\n",
    "        cm.append(sum_FP)\n",
    "        cm.append(sum_FN)\n",
    "        cm.append(sum_TN)\n",
    "        \n",
    "        print(\"precision\")\n",
    "        print((sum_TP)/(sum_FP+sum_TP))\n",
    "        print(\"acuracy\")\n",
    "        print((sum_TP+sum_TN)/(sum_TP+sum_TN+sum_FN+sum_FP))\n",
    "        print(\"Sensitivity\")\n",
    "        print((sum_TP)/(sum_FN+sum_TP))\n",
    "        print(\"specficity\")\n",
    "        print((sum_TN)/(sum_FP+sum_TN))\n",
    "        print(\"confusion matrix\")\n",
    "        print(cm)\n",
    "\n",
    "knn = KNNClassifier(k=12)\n",
    "knn.fit(x_train, y_train)\n",
    "y_pred = knn.predict(x_test)\n",
    "accu=accuracy_score(y_test,y_pred)\n",
    "knn.CM(y_test,y_pred)"
   ]
  },
  {
   "cell_type": "code",
   "execution_count": null,
   "id": "2dfbeb31-97df-4de1-82e1-894e7cdf1828",
   "metadata": {},
   "outputs": [],
   "source": []
  }
 ],
 "metadata": {
  "kernelspec": {
   "display_name": "Python 3 (ipykernel)",
   "language": "python",
   "name": "python3"
  },
  "language_info": {
   "codemirror_mode": {
    "name": "ipython",
    "version": 3
   },
   "file_extension": ".py",
   "mimetype": "text/x-python",
   "name": "python",
   "nbconvert_exporter": "python",
   "pygments_lexer": "ipython3",
   "version": "3.10.8"
  }
 },
 "nbformat": 4,
 "nbformat_minor": 5
}
